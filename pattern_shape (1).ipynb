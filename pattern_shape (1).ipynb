{
  "nbformat": 4,
  "nbformat_minor": 0,
  "metadata": {
    "colab": {
      "provenance": []
    },
    "kernelspec": {
      "name": "python3",
      "display_name": "Python 3"
    },
    "language_info": {
      "name": "python"
    }
  },
  "cells": [
    {
      "cell_type": "code",
      "execution_count": 1,
      "metadata": {
        "colab": {
          "base_uri": "https://localhost:8080/"
        },
        "id": "nWff7o2crhVF",
        "outputId": "3a2f53d7-a9c4-459a-f17b-dffb00c95ac3"
      },
      "outputs": [
        {
          "output_type": "stream",
          "name": "stdout",
          "text": [
            "Please enter an odd number: 7\n",
            "X * * * * * #\n",
            "* X * * * # *\n",
            "* * X * # * *\n",
            "* * * X * * *\n",
            "* * # * X * *\n",
            "* # * * * X *\n",
            "# * * * * * X\n"
          ]
        }
      ],
      "source": [
        "size = int(input(\"Please enter an odd number: \"))\n",
        "# This line asks the user to input a number and stores it in the variable 'size'.\n",
        "# The input is expected to be an integer, so we use int() to convert it to a number.\n",
        "\n",
        "if size % 2 == 1:\n",
        "    # This checks if the number is odd. The '%' operator gives the remainder of the division.\n",
        "    # If the remainder when dividing 'size' by 2 is 1, it means the number is odd.\n",
        "\n",
        "    i = 0\n",
        "    # 'i' is set to 0. This will be used to count rows.\n",
        "\n",
        "    while i < size:\n",
        "        # This loop runs as long as 'i' is less than 'size'. It goes through each row.\n",
        "\n",
        "        j = 0\n",
        "        # 'j' is set to 0. This will be used to count columns within each row.\n",
        "\n",
        "        row_output = \"\"\n",
        "        # This creates an empty string to hold the characters for each row.\n",
        "\n",
        "        while j < size:\n",
        "            # This loop runs as long as 'j' is less than 'size'. It processes each column in the current row.\n",
        "\n",
        "            if i == j:\n",
        "                # If the row number 'i' and column number 'j' are the same,\n",
        "                # it adds an 'X' to the row (this will make a diagonal line from top-left to bottom-right).\n",
        "                row_output += 'X'\n",
        "            elif i + j == size - 1:\n",
        "                # If the sum of 'i' and 'j' is equal to 'size - 1',\n",
        "                # it adds a '#' (this will make a diagonal line from top-right to bottom-left).\n",
        "                row_output += '#'\n",
        "            else:\n",
        "                # For all other positions, it adds a '*'.\n",
        "                row_output += '*'\n",
        "\n",
        "            if j < size - 1:\n",
        "                # This adds a space between the characters, except at the end of the row.\n",
        "                row_output += ' '\n",
        "\n",
        "            j += 1\n",
        "            # Increases 'j' by 1, so it moves to the next column.\n",
        "\n",
        "        print(row_output)\n",
        "        # Prints the entire row of characters after the inner loop finishes.\n",
        "\n",
        "        i += 1\n",
        "        # Increases 'i' by 1, so it moves to the next row.\n",
        "\n",
        "else:\n",
        "    print(\"Sorry, that's an even number. Please enter an odd number.\")\n",
        "    # If the user entered an even number, this message is printed, asking them to try again with an odd number.\n"
      ]
    }
  ]
}