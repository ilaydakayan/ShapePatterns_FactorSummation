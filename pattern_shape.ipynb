{
  "nbformat": 4,
  "nbformat_minor": 0,
  "metadata": {
    "colab": {
      "provenance": []
    },
    "kernelspec": {
      "name": "python3",
      "display_name": "Python 3"
    },
    "language_info": {
      "name": "python"
    }
  },
  "cells": [
    {
      "cell_type": "code",
      "execution_count": 1,
      "metadata": {
        "colab": {
          "base_uri": "https://localhost:8080/"
        },
        "id": "nWff7o2crhVF",
        "outputId": "d7a3be73-c442-42ee-a032-3b1a387f44de"
      },
      "outputs": [
        {
          "output_type": "stream",
          "name": "stdout",
          "text": [
            "Please enter an odd number: 7\n",
            "X * * * * * #\n",
            "* X * * * # *\n",
            "* * X * # * *\n",
            "* * * X * * *\n",
            "* * # * X * *\n",
            "* # * * * X *\n",
            "# * * * * * X\n"
          ]
        }
      ],
      "source": [
        "size = int(input(\"Please enter an odd number: \"))\n",
        "\n",
        "\n",
        "if size % 2 == 1:\n",
        "    i = 0\n",
        "    while i < size:\n",
        "        j = 0\n",
        "        row_output = \"\"\n",
        "        while j < size:\n",
        "            if i == j:\n",
        "                row_output += 'X'\n",
        "            elif i + j == size - 1:\n",
        "                row_output += '#'\n",
        "            else:\n",
        "                row_output += '*'\n",
        "            if j < size - 1:\n",
        "                row_output += ' '\n",
        "            j += 1\n",
        "        print(row_output)\n",
        "        i += 1\n",
        "else:\n",
        "    print(\"Sorry, that's an even number. Please enter an odd number.\")"
      ]
    }
  ]
}