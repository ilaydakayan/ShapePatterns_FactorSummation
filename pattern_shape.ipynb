# This line asks the user to input a number and stores it in the variable 'size'.
# The input is expected to be an integer, so we use int() to convert it to a number.


size = int(input("Please enter an odd number: "))

if size % 2 == 1:
    # This checks if the number is odd. The '%' operator gives the remainder of the division.
    # If the remainder when dividing 'size' by 2 is 1, it means the number is odd.
    
    i = 0
    # 'i' is set to 0. This will be used to count rows.
    
    while i < size:
        # This loop runs as long as 'i' is less than 'size'. It goes through each row.
        
        j = 0
        # 'j' is set to 0. This will be used to count columns within each row.
        
        row_output = ""
        # This creates an empty string to hold the characters for each row.

        while j < size:
            # This loop runs as long as 'j' is less than 'size'. It processes each column in the current row.

            if i == j:
                # If the row number 'i' and column number 'j' are the same, 
                # it adds an 'X' to the row (this will make a diagonal line from top-left to bottom-right).
                row_output += 'X'
            elif i + j == size - 1:
                # If the sum of 'i' and 'j' is equal to 'size - 1', 
                # it adds a '#' (this will make a diagonal line from top-right to bottom-left).
                row_output += '#'
            else:
                # For all other positions, it adds a '*'.
                row_output += '*'
            
            if j < size - 1:
                # This adds a space between the characters, except at the end of the row.
                row_output += ' '

            j += 1
            # Increases 'j' by 1, so it moves to the next column.

        print(row_output)
        # Prints the entire row of characters after the inner loop finishes.
        
        i += 1
        # Increases 'i' by 1, so it moves to the next row.

else:
    print("Sorry, that's an even number. Please enter an odd number.")
    # If the user entered an even number, this message is printed, asking them to try again with an odd number.
